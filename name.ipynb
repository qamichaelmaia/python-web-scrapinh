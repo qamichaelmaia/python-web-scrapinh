{
 "cells": [
  {
   "cell_type": "code",
   "execution_count": 5,
   "metadata": {},
   "outputs": [],
   "source": [
    "from selenium.webdriver.common.by import By\n",
    "from selenium import webdriver\n",
    "\n",
    "driver = webdriver.Chrome()"
   ]
  },
  {
   "cell_type": "code",
   "execution_count": 7,
   "metadata": {},
   "outputs": [],
   "source": [
    "#https://curso-web-scraping.pages.dev/#/exemplo/1\n",
    "driver.get('http://localhost:8001/#/exemplo/1')"
   ]
  },
  {
   "cell_type": "markdown",
   "metadata": {},
   "source": [
    "Opções disponíveis \n",
    "\n",
    "- ID = \"id\"\n",
    "- NAME = \"name\"\n",
    "- XPATH = \"xpath\"\n",
    "- LINK_TEXT = \"link text\"\n",
    "- PARTIAL_LINK_TEXT = \"partial link text\"\n",
    "- TAG_NAME = \"tag name\"\n",
    "- CLASS_NAME = \"class name\"\n",
    "- CSS_SELECTOR = \"css selector\""
   ]
  },
  {
   "cell_type": "code",
   "execution_count": 12,
   "metadata": {},
   "outputs": [
    {
     "name": "stdout",
     "output_type": "stream",
     "text": [
      "\n",
      "    nome='João Pedro Macedo',\n",
      "    profissao='Avançar Pesquisar Analista',\n",
      "    signo='Áries',\n",
      "    genero='Feminino'\n",
      "\n"
     ]
    }
   ],
   "source": [
    "nome = driver.find_element(By.NAME, 'fullname').get_property('value')\n",
    "profissao = driver.find_element(By.NAME, 'role').get_property('value')\n",
    "signo = driver.find_element(By.NAME, 'zodiacSign').get_property('value')\n",
    "genero = driver.find_element(By.NAME, 'genderOfBirth').get_property('value')\n",
    "\n",
    "print (f'''\n",
    "    {nome=},\n",
    "    {profissao=},\n",
    "    {signo=},\n",
    "    {genero=}\n",
    "''')"
   ]
  }
 ],
 "metadata": {
  "kernelspec": {
   "display_name": "venv",
   "language": "python",
   "name": "python3"
  },
  "language_info": {
   "codemirror_mode": {
    "name": "ipython",
    "version": 3
   },
   "file_extension": ".py",
   "mimetype": "text/x-python",
   "name": "python",
   "nbconvert_exporter": "python",
   "pygments_lexer": "ipython3",
   "version": "3.12.7"
  }
 },
 "nbformat": 4,
 "nbformat_minor": 2
}
