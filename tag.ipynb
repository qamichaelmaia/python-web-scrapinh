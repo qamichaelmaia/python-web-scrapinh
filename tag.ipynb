{
 "cells": [
  {
   "cell_type": "code",
   "execution_count": 5,
   "metadata": {},
   "outputs": [],
   "source": [
    "from selenium.webdriver.common.by import By\n",
    "from selenium import webdriver\n",
    "\n",
    "driver = webdriver.Chrome()\n"
   ]
  },
  {
   "cell_type": "code",
   "execution_count": 6,
   "metadata": {},
   "outputs": [],
   "source": [
    "#https://curso-web-scraping.pages.dev/#/exemplo/1\n",
    "driver.get('http://localhost:8001/#/exemplo/1')"
   ]
  },
  {
   "cell_type": "markdown",
   "metadata": {},
   "source": [
    "Opções disponíveis \n",
    "\n",
    "- ID = \"id\"\n",
    "- NAME = \"name\"\n",
    "- XPATH = \"xpath\"\n",
    "- LINK_TEXT = \"link text\"\n",
    "- PARTIAL_LINK_TEXT = \"partial link text\"\n",
    "- TAG_NAME = \"tag name\"\n",
    "- CLASS_NAME = \"class name\"\n",
    "- CSS_SELECTOR = \"css selector\""
   ]
  },
  {
   "cell_type": "code",
   "execution_count": 13,
   "metadata": {},
   "outputs": [
    {
     "data": {
      "text/plain": [
       "[<selenium.webdriver.remote.webelement.WebElement (session=\"dc7b732800ebe9b4c08f0f40b9dd5ff5\", element=\"f.2863D427A08276E3C5152AE54DC44392.d.39542A043CB3F385BEE61F5E736DA98A.e.216\")>,\n",
       " <selenium.webdriver.remote.webelement.WebElement (session=\"dc7b732800ebe9b4c08f0f40b9dd5ff5\", element=\"f.2863D427A08276E3C5152AE54DC44392.d.39542A043CB3F385BEE61F5E736DA98A.e.218\")>,\n",
       " <selenium.webdriver.remote.webelement.WebElement (session=\"dc7b732800ebe9b4c08f0f40b9dd5ff5\", element=\"f.2863D427A08276E3C5152AE54DC44392.d.39542A043CB3F385BEE61F5E736DA98A.e.220\")>,\n",
       " <selenium.webdriver.remote.webelement.WebElement (session=\"dc7b732800ebe9b4c08f0f40b9dd5ff5\", element=\"f.2863D427A08276E3C5152AE54DC44392.d.39542A043CB3F385BEE61F5E736DA98A.e.222\")>]"
      ]
     },
     "execution_count": 13,
     "metadata": {},
     "output_type": "execute_result"
    }
   ],
   "source": [
    "campos = driver.find_elements(By.TAG_NAME, 'input')\n",
    "campos"
   ]
  },
  {
   "cell_type": "code",
   "execution_count": 15,
   "metadata": {},
   "outputs": [
    {
     "name": "stdout",
     "output_type": "stream",
     "text": [
      "Benício Xavier\n",
      "Produto Mercados Estrategista\n",
      "Virgem\n",
      "Feminino\n"
     ]
    }
   ],
   "source": [
    "for campo in campos:\n",
    "    valor = campo.get_property('value')\n",
    "    print(valor)"
   ]
  },
  {
   "cell_type": "code",
   "execution_count": 17,
   "metadata": {},
   "outputs": [
    {
     "data": {
      "text/plain": [
       "[<selenium.webdriver.remote.webelement.WebElement (session=\"dc7b732800ebe9b4c08f0f40b9dd5ff5\", element=\"f.2863D427A08276E3C5152AE54DC44392.d.39542A043CB3F385BEE61F5E736DA98A.e.105\")>,\n",
       " <selenium.webdriver.remote.webelement.WebElement (session=\"dc7b732800ebe9b4c08f0f40b9dd5ff5\", element=\"f.2863D427A08276E3C5152AE54DC44392.d.39542A043CB3F385BEE61F5E736DA98A.e.112\")>,\n",
       " <selenium.webdriver.remote.webelement.WebElement (session=\"dc7b732800ebe9b4c08f0f40b9dd5ff5\", element=\"f.2863D427A08276E3C5152AE54DC44392.d.39542A043CB3F385BEE61F5E736DA98A.e.115\")>,\n",
       " <selenium.webdriver.remote.webelement.WebElement (session=\"dc7b732800ebe9b4c08f0f40b9dd5ff5\", element=\"f.2863D427A08276E3C5152AE54DC44392.d.39542A043CB3F385BEE61F5E736DA98A.e.118\")>,\n",
       " <selenium.webdriver.remote.webelement.WebElement (session=\"dc7b732800ebe9b4c08f0f40b9dd5ff5\", element=\"f.2863D427A08276E3C5152AE54DC44392.d.39542A043CB3F385BEE61F5E736DA98A.e.121\")>,\n",
       " <selenium.webdriver.remote.webelement.WebElement (session=\"dc7b732800ebe9b4c08f0f40b9dd5ff5\", element=\"f.2863D427A08276E3C5152AE54DC44392.d.39542A043CB3F385BEE61F5E736DA98A.e.124\")>,\n",
       " <selenium.webdriver.remote.webelement.WebElement (session=\"dc7b732800ebe9b4c08f0f40b9dd5ff5\", element=\"f.2863D427A08276E3C5152AE54DC44392.d.39542A043CB3F385BEE61F5E736DA98A.e.127\")>,\n",
       " <selenium.webdriver.remote.webelement.WebElement (session=\"dc7b732800ebe9b4c08f0f40b9dd5ff5\", element=\"f.2863D427A08276E3C5152AE54DC44392.d.39542A043CB3F385BEE61F5E736DA98A.e.130\")>,\n",
       " <selenium.webdriver.remote.webelement.WebElement (session=\"dc7b732800ebe9b4c08f0f40b9dd5ff5\", element=\"f.2863D427A08276E3C5152AE54DC44392.d.39542A043CB3F385BEE61F5E736DA98A.e.133\")>,\n",
       " <selenium.webdriver.remote.webelement.WebElement (session=\"dc7b732800ebe9b4c08f0f40b9dd5ff5\", element=\"f.2863D427A08276E3C5152AE54DC44392.d.39542A043CB3F385BEE61F5E736DA98A.e.136\")>,\n",
       " <selenium.webdriver.remote.webelement.WebElement (session=\"dc7b732800ebe9b4c08f0f40b9dd5ff5\", element=\"f.2863D427A08276E3C5152AE54DC44392.d.39542A043CB3F385BEE61F5E736DA98A.e.139\")>,\n",
       " <selenium.webdriver.remote.webelement.WebElement (session=\"dc7b732800ebe9b4c08f0f40b9dd5ff5\", element=\"f.2863D427A08276E3C5152AE54DC44392.d.39542A043CB3F385BEE61F5E736DA98A.e.142\")>,\n",
       " <selenium.webdriver.remote.webelement.WebElement (session=\"dc7b732800ebe9b4c08f0f40b9dd5ff5\", element=\"f.2863D427A08276E3C5152AE54DC44392.d.39542A043CB3F385BEE61F5E736DA98A.e.145\")>,\n",
       " <selenium.webdriver.remote.webelement.WebElement (session=\"dc7b732800ebe9b4c08f0f40b9dd5ff5\", element=\"f.2863D427A08276E3C5152AE54DC44392.d.39542A043CB3F385BEE61F5E736DA98A.e.148\")>,\n",
       " <selenium.webdriver.remote.webelement.WebElement (session=\"dc7b732800ebe9b4c08f0f40b9dd5ff5\", element=\"f.2863D427A08276E3C5152AE54DC44392.d.39542A043CB3F385BEE61F5E736DA98A.e.151\")>,\n",
       " <selenium.webdriver.remote.webelement.WebElement (session=\"dc7b732800ebe9b4c08f0f40b9dd5ff5\", element=\"f.2863D427A08276E3C5152AE54DC44392.d.39542A043CB3F385BEE61F5E736DA98A.e.154\")>,\n",
       " <selenium.webdriver.remote.webelement.WebElement (session=\"dc7b732800ebe9b4c08f0f40b9dd5ff5\", element=\"f.2863D427A08276E3C5152AE54DC44392.d.39542A043CB3F385BEE61F5E736DA98A.e.172\")>,\n",
       " <selenium.webdriver.remote.webelement.WebElement (session=\"dc7b732800ebe9b4c08f0f40b9dd5ff5\", element=\"f.2863D427A08276E3C5152AE54DC44392.d.39542A043CB3F385BEE61F5E736DA98A.e.175\")>,\n",
       " <selenium.webdriver.remote.webelement.WebElement (session=\"dc7b732800ebe9b4c08f0f40b9dd5ff5\", element=\"f.2863D427A08276E3C5152AE54DC44392.d.39542A043CB3F385BEE61F5E736DA98A.e.178\")>,\n",
       " <selenium.webdriver.remote.webelement.WebElement (session=\"dc7b732800ebe9b4c08f0f40b9dd5ff5\", element=\"f.2863D427A08276E3C5152AE54DC44392.d.39542A043CB3F385BEE61F5E736DA98A.e.181\")>,\n",
       " <selenium.webdriver.remote.webelement.WebElement (session=\"dc7b732800ebe9b4c08f0f40b9dd5ff5\", element=\"f.2863D427A08276E3C5152AE54DC44392.d.39542A043CB3F385BEE61F5E736DA98A.e.200\")>,\n",
       " <selenium.webdriver.remote.webelement.WebElement (session=\"dc7b732800ebe9b4c08f0f40b9dd5ff5\", element=\"f.2863D427A08276E3C5152AE54DC44392.d.39542A043CB3F385BEE61F5E736DA98A.e.202\")>,\n",
       " <selenium.webdriver.remote.webelement.WebElement (session=\"dc7b732800ebe9b4c08f0f40b9dd5ff5\", element=\"f.2863D427A08276E3C5152AE54DC44392.d.39542A043CB3F385BEE61F5E736DA98A.e.204\")>,\n",
       " <selenium.webdriver.remote.webelement.WebElement (session=\"dc7b732800ebe9b4c08f0f40b9dd5ff5\", element=\"f.2863D427A08276E3C5152AE54DC44392.d.39542A043CB3F385BEE61F5E736DA98A.e.206\")>,\n",
       " <selenium.webdriver.remote.webelement.WebElement (session=\"dc7b732800ebe9b4c08f0f40b9dd5ff5\", element=\"f.2863D427A08276E3C5152AE54DC44392.d.39542A043CB3F385BEE61F5E736DA98A.e.208\")>]"
      ]
     },
     "execution_count": 17,
     "metadata": {},
     "output_type": "execute_result"
    }
   ],
   "source": [
    "redes_sociais = driver.find_elements(By.TAG_NAME, 'span')\n",
    "redes_sociais"
   ]
  },
  {
   "cell_type": "code",
   "execution_count": 19,
   "metadata": {},
   "outputs": [
    {
     "name": "stdout",
     "output_type": "stream",
     "text": [
      "Abrir menu\n",
      "\n",
      "\n",
      "\n",
      "\n",
      "\n",
      "\n",
      "\n",
      "Exemplo 4\n",
      "Exemplo 5\n",
      "Exemplo 6\n",
      "Exemplo 7\n",
      "Exemplo 8\n",
      "Exemplo 9\n",
      "Exemplo 10\n",
      "Exemplo 11\n",
      "Desafio 1\n",
      "Desafio 2\n",
      "Desafio 3\n",
      "Desafio 4\n",
      "Instagram\n",
      "Facebook\n",
      "Github\n",
      "YouTube\n",
      "Telegram\n"
     ]
    }
   ],
   "source": [
    "for rs in redes_sociais:\n",
    "    valor = rs.text\n",
    "    print(valor)"
   ]
  },
  {
   "cell_type": "markdown",
   "metadata": {},
   "source": [
    "Concatenar buscas para restringer a área de busca"
   ]
  },
  {
   "cell_type": "code",
   "execution_count": 22,
   "metadata": {},
   "outputs": [
    {
     "data": {
      "text/plain": [
       "[<selenium.webdriver.remote.webelement.WebElement (session=\"dc7b732800ebe9b4c08f0f40b9dd5ff5\", element=\"f.2863D427A08276E3C5152AE54DC44392.d.39542A043CB3F385BEE61F5E736DA98A.e.200\")>,\n",
       " <selenium.webdriver.remote.webelement.WebElement (session=\"dc7b732800ebe9b4c08f0f40b9dd5ff5\", element=\"f.2863D427A08276E3C5152AE54DC44392.d.39542A043CB3F385BEE61F5E736DA98A.e.202\")>,\n",
       " <selenium.webdriver.remote.webelement.WebElement (session=\"dc7b732800ebe9b4c08f0f40b9dd5ff5\", element=\"f.2863D427A08276E3C5152AE54DC44392.d.39542A043CB3F385BEE61F5E736DA98A.e.204\")>,\n",
       " <selenium.webdriver.remote.webelement.WebElement (session=\"dc7b732800ebe9b4c08f0f40b9dd5ff5\", element=\"f.2863D427A08276E3C5152AE54DC44392.d.39542A043CB3F385BEE61F5E736DA98A.e.206\")>,\n",
       " <selenium.webdriver.remote.webelement.WebElement (session=\"dc7b732800ebe9b4c08f0f40b9dd5ff5\", element=\"f.2863D427A08276E3C5152AE54DC44392.d.39542A043CB3F385BEE61F5E736DA98A.e.208\")>]"
      ]
     },
     "execution_count": 22,
     "metadata": {},
     "output_type": "execute_result"
    }
   ],
   "source": [
    "redes_sociais = driver.find_element(By.ID, 'social').find_elements(By.TAG_NAME, 'span')\n",
    "redes_sociais"
   ]
  },
  {
   "cell_type": "code",
   "execution_count": 26,
   "metadata": {},
   "outputs": [
    {
     "name": "stdout",
     "output_type": "stream",
     "text": [
      "Instagram\n",
      "Facebook\n",
      "Github\n",
      "YouTube\n",
      "Telegram\n"
     ]
    }
   ],
   "source": [
    "for rs in redes_sociais:\n",
    "    valor = rs.text\n",
    "    print(valor)"
   ]
  },
  {
   "cell_type": "code",
   "execution_count": null,
   "metadata": {},
   "outputs": [],
   "source": []
  },
  {
   "cell_type": "code",
   "execution_count": null,
   "metadata": {},
   "outputs": [],
   "source": []
  },
  {
   "cell_type": "code",
   "execution_count": null,
   "metadata": {},
   "outputs": [],
   "source": []
  },
  {
   "cell_type": "code",
   "execution_count": null,
   "metadata": {},
   "outputs": [],
   "source": []
  },
  {
   "cell_type": "code",
   "execution_count": null,
   "metadata": {},
   "outputs": [],
   "source": []
  },
  {
   "cell_type": "code",
   "execution_count": null,
   "metadata": {},
   "outputs": [],
   "source": []
  },
  {
   "cell_type": "code",
   "execution_count": null,
   "metadata": {},
   "outputs": [],
   "source": []
  },
  {
   "cell_type": "code",
   "execution_count": null,
   "metadata": {},
   "outputs": [],
   "source": []
  }
 ],
 "metadata": {
  "kernelspec": {
   "display_name": "venv",
   "language": "python",
   "name": "python3"
  },
  "language_info": {
   "codemirror_mode": {
    "name": "ipython",
    "version": 3
   },
   "file_extension": ".py",
   "mimetype": "text/x-python",
   "name": "python",
   "nbconvert_exporter": "python",
   "pygments_lexer": "ipython3",
   "version": "3.12.7"
  }
 },
 "nbformat": 4,
 "nbformat_minor": 2
}
