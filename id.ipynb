{
 "cells": [
  {
   "cell_type": "code",
   "execution_count": 11,
   "metadata": {},
   "outputs": [],
   "source": [
    "from selenium import webdriver\n",
    "\n",
    "driver = webdriver.Chrome()"
   ]
  },
  {
   "cell_type": "code",
   "execution_count": 12,
   "metadata": {},
   "outputs": [],
   "source": [
    "#https://curso-web-scraping.pages.dev/#/exemplo/1\n",
    "#http://localhost:8001/#/exemplo/1\n",
    "driver.get('https://curso-web-scraping.pages.dev/#/exemplo/1')"
   ]
  },
  {
   "cell_type": "markdown",
   "metadata": {},
   "source": [
    "Opções disponíveis \n",
    "\n",
    "- ID = \"id\"\n",
    "- NAME = \"name\"\n",
    "- XPATH = \"xpath\"\n",
    "- LINK_TEXT = \"link text\"\n",
    "- PARTIAL_LINK_TEXT = \"partial link text\"\n",
    "- TAG_NAME = \"tag name\"\n",
    "- CLASS_NAME = \"class name\"\n",
    "- CSS_SELECTOR = \"css selector\""
   ]
  },
  {
   "cell_type": "code",
   "execution_count": 6,
   "metadata": {},
   "outputs": [],
   "source": [
    "from selenium.webdriver.common.by import By"
   ]
  },
  {
   "cell_type": "code",
   "execution_count": 17,
   "metadata": {},
   "outputs": [
    {
     "data": {
      "text/plain": [
       "'block w-full rounded-md border-0 py-1.5 px-4 h-10 text-gray-700 ring-1 ring-inset ring-gray-300 bg-white placeholder:text-gray-400 focus:ring-2 focus:ring-inset focus:ring-cyan-600 sm:text-sm sm:leading-6 styled-input'"
      ]
     },
     "execution_count": 17,
     "metadata": {},
     "output_type": "execute_result"
    }
   ],
   "source": [
    "driver.find_element(By.ID, 'user').get_property('className')"
   ]
  },
  {
   "cell_type": "code",
   "execution_count": 20,
   "metadata": {},
   "outputs": [
    {
     "name": "stdout",
     "output_type": "stream",
     "text": [
      "\n",
      "    nome='Beatriz Nogueira',\n",
      "    profissao='Humano Otimização Facilitador',\n",
      "    signo='Capricórnio',\n",
      "    genero='Masculino'\n",
      "\n"
     ]
    }
   ],
   "source": [
    "nome = driver.find_element(By.ID, 'user').get_property('value')\n",
    "profissao = driver.find_element(By.ID, 'role').get_property('value')\n",
    "signo = driver.find_element(By.ID, 'zodiac').get_property('value')\n",
    "genero = driver.find_element(By.ID, 'gender').get_property('value')\n",
    "\n",
    "print(f'''\n",
    "    {nome=},\n",
    "    {profissao=},\n",
    "    {signo=},\n",
    "    {genero=}\n",
    "''')"
   ]
  }
 ],
 "metadata": {
  "kernelspec": {
   "display_name": "venv",
   "language": "python",
   "name": "python3"
  },
  "language_info": {
   "codemirror_mode": {
    "name": "ipython",
    "version": 3
   },
   "file_extension": ".py",
   "mimetype": "text/x-python",
   "name": "python",
   "nbconvert_exporter": "python",
   "pygments_lexer": "ipython3",
   "version": "3.12.7"
  }
 },
 "nbformat": 4,
 "nbformat_minor": 2
}
